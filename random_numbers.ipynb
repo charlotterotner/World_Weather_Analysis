{
 "cells": [
  {
   "cell_type": "code",
   "execution_count": 1,
   "id": "2ecde9af",
   "metadata": {},
   "outputs": [],
   "source": [
    "# Import the random module.\n",
    "import random"
   ]
  },
  {
   "cell_type": "code",
   "execution_count": 2,
   "id": "4e84924d",
   "metadata": {},
   "outputs": [
    {
     "data": {
      "text/plain": [
       "-75"
      ]
     },
     "execution_count": 2,
     "metadata": {},
     "output_type": "execute_result"
    }
   ],
   "source": [
    "random.randint(-90, 90)"
   ]
  },
  {
   "cell_type": "code",
   "execution_count": 5,
   "id": "a5a33dd1",
   "metadata": {},
   "outputs": [
    {
     "data": {
      "text/plain": [
       "0.23026671003975785"
      ]
     },
     "execution_count": 5,
     "metadata": {},
     "output_type": "execute_result"
    }
   ],
   "source": [
    "random.random()"
   ]
  },
  {
   "cell_type": "code",
   "execution_count": 6,
   "id": "326a7bf0",
   "metadata": {},
   "outputs": [
    {
     "data": {
      "text/plain": [
       "-54.654805227754885"
      ]
     },
     "execution_count": 6,
     "metadata": {},
     "output_type": "execute_result"
    }
   ],
   "source": [
    "random_number = random.randint(-90, 89) + random.random()\n",
    "random_number"
   ]
  },
  {
   "cell_type": "code",
   "execution_count": 7,
   "id": "4a8a9f70",
   "metadata": {},
   "outputs": [
    {
     "data": {
      "text/plain": [
       "[65.6374637218165,\n",
       " 32.633810087236625,\n",
       " 54.412237310353525,\n",
       " 44.62200500898188,\n",
       " -28.56246403623973,\n",
       " -62.201564796883616,\n",
       " -79.05380917960072,\n",
       " 78.93577201858692,\n",
       " 27.91651245565031,\n",
       " 31.596381436308427]"
      ]
     },
     "execution_count": 7,
     "metadata": {},
     "output_type": "execute_result"
    }
   ],
   "source": [
    "x = 1\n",
    "latitudes = []\n",
    "while x < 11:\n",
    "    random_lat = random.randint(-90, 89) + random.random()\n",
    "    latitudes.append(random_lat)\n",
    "    x += 1\n",
    "latitudes"
   ]
  },
  {
   "cell_type": "code",
   "execution_count": 8,
   "id": "41afdf7f",
   "metadata": {},
   "outputs": [
    {
     "data": {
      "text/plain": [
       "[-140.72850482406943,\n",
       " 177.67880769617946,\n",
       " -63.743151745706584,\n",
       " -165.3364210497808,\n",
       " -73.65839669020869,\n",
       " -144.39254556643425,\n",
       " 84.10941461115333,\n",
       " -37.7391012199207,\n",
       " 127.10254519348241,\n",
       " 33.53081433363674]"
      ]
     },
     "execution_count": 8,
     "metadata": {},
     "output_type": "execute_result"
    }
   ],
   "source": [
    "x = 1\n",
    "latitudes = []\n",
    "while x < 11:\n",
    "    random_lat = random.randint(-180, 180) + random.random()\n",
    "    latitudes.append(random_lat)\n",
    "    x += 1\n",
    "latitudes"
   ]
  },
  {
   "cell_type": "code",
   "execution_count": 9,
   "id": "df4fc8d2",
   "metadata": {},
   "outputs": [
    {
     "data": {
      "text/plain": [
       "79"
      ]
     },
     "execution_count": 9,
     "metadata": {},
     "output_type": "execute_result"
    }
   ],
   "source": [
    "random.randrange(-90,90, step = 1)"
   ]
  },
  {
   "cell_type": "code",
   "execution_count": 10,
   "id": "173fbb73",
   "metadata": {},
   "outputs": [
    {
     "data": {
      "text/plain": [
       "-63"
      ]
     },
     "execution_count": 10,
     "metadata": {},
     "output_type": "execute_result"
    }
   ],
   "source": [
    "random.randrange(-90,90, step = 3)"
   ]
  },
  {
   "cell_type": "code",
   "execution_count": 11,
   "id": "5bb6eb0f",
   "metadata": {},
   "outputs": [
    {
     "data": {
      "text/plain": [
       "-80.97077350406406"
      ]
     },
     "execution_count": 11,
     "metadata": {},
     "output_type": "execute_result"
    }
   ],
   "source": [
    "random.uniform(-90, 90)"
   ]
  },
  {
   "cell_type": "code",
   "execution_count": 12,
   "id": "068ad53f",
   "metadata": {},
   "outputs": [],
   "source": [
    "# Import the NumPy module.\n",
    "import numpy as np"
   ]
  },
  {
   "cell_type": "code",
   "execution_count": 13,
   "id": "f3d4208a",
   "metadata": {},
   "outputs": [
    {
     "data": {
      "text/plain": [
       "-6.8314467321108765"
      ]
     },
     "execution_count": 13,
     "metadata": {},
     "output_type": "execute_result"
    }
   ],
   "source": [
    "np.random.uniform(-90.000, 90.000)"
   ]
  },
  {
   "cell_type": "code",
   "execution_count": 14,
   "id": "b3fa162b",
   "metadata": {},
   "outputs": [
    {
     "data": {
      "text/plain": [
       "10.700739939579776"
      ]
     },
     "execution_count": 14,
     "metadata": {},
     "output_type": "execute_result"
    }
   ],
   "source": [
    "np.random.uniform(low=-90, high=90)"
   ]
  },
  {
   "cell_type": "code",
   "execution_count": 15,
   "id": "87c45235",
   "metadata": {},
   "outputs": [
    {
     "data": {
      "text/plain": [
       "array([-3.61783500e+01,  4.92307390e+01,  7.45912910e+01, -2.10577474e-02,\n",
       "       -4.95047385e+01, -7.99393042e+01, -8.39454150e+01,  1.24272032e+01,\n",
       "        4.61219806e+01, -6.27677633e+01,  3.78570484e+01, -5.03307155e+01,\n",
       "        6.50675861e+01, -2.67983344e+01, -3.03325608e+01, -7.09105439e+01,\n",
       "       -6.30434888e+01, -7.77773155e+01,  8.59100746e+01, -9.49332688e+00,\n",
       "       -7.64169039e+01,  4.55623528e+01,  5.58957024e+01,  2.67271818e+01,\n",
       "       -3.41506919e+01, -4.05683385e+01, -2.09294508e+01, -7.32325837e+01,\n",
       "       -1.10591387e+01,  3.50352419e+01, -8.80437834e+01, -4.82821255e+01,\n",
       "        5.01850184e+01, -7.84439933e+01,  7.39479857e+01,  3.83256951e+01,\n",
       "       -7.68145781e-01,  4.20616669e+01, -5.97620172e+01,  6.52158477e+01,\n",
       "        7.92695495e+01, -4.14610565e+00, -6.03897491e+01,  4.00634711e+01,\n",
       "       -8.95309892e+01, -8.45042368e+01,  6.78822356e+01, -4.87020828e+01,\n",
       "        7.94473675e+01, -3.45579341e+01])"
      ]
     },
     "execution_count": 15,
     "metadata": {},
     "output_type": "execute_result"
    }
   ],
   "source": [
    "np.random.uniform(-90.000, 90.000, size=50)"
   ]
  },
  {
   "cell_type": "code",
   "execution_count": 16,
   "id": "72e9747b",
   "metadata": {},
   "outputs": [],
   "source": [
    "# Import timeit.\n",
    "import timeit"
   ]
  },
  {
   "cell_type": "code",
   "execution_count": 17,
   "id": "941e1732",
   "metadata": {},
   "outputs": [
    {
     "name": "stdout",
     "output_type": "stream",
     "text": [
      "17.3 µs ± 40.9 ns per loop (mean ± std. dev. of 7 runs, 100000 loops each)\n"
     ]
    }
   ],
   "source": [
    "%timeit np.random.uniform(-90.000, 90.000, size=1500)"
   ]
  },
  {
   "cell_type": "code",
   "execution_count": 18,
   "id": "43c1fdcc",
   "metadata": {},
   "outputs": [
    {
     "name": "stdout",
     "output_type": "stream",
     "text": [
      "1.54 ms ± 2.55 µs per loop (mean ± std. dev. of 7 runs, 1000 loops each)\n"
     ]
    }
   ],
   "source": [
    "def latitudes(size):\n",
    "    latitudes = []\n",
    "    x = 0 \n",
    "    while x < (size):\n",
    "        random_lat = random.randint(-90,90) +random.random()\n",
    "        latitudes.append(random_lat)\n",
    "        x += 1\n",
    "    return latitudes\n",
    "# Call the function with 1500\n",
    "%timeit latitudes (1500)"
   ]
  },
  {
   "cell_type": "code",
   "execution_count": null,
   "id": "4bbfb038",
   "metadata": {},
   "outputs": [],
   "source": []
  },
  {
   "cell_type": "code",
   "execution_count": null,
   "id": "ff73494f",
   "metadata": {},
   "outputs": [],
   "source": []
  }
 ],
 "metadata": {
  "kernelspec": {
   "display_name": "PythonData",
   "language": "python",
   "name": "pythondata"
  },
  "language_info": {
   "codemirror_mode": {
    "name": "ipython",
    "version": 3
   },
   "file_extension": ".py",
   "mimetype": "text/x-python",
   "name": "python",
   "nbconvert_exporter": "python",
   "pygments_lexer": "ipython3",
   "version": "3.7.11"
  }
 },
 "nbformat": 4,
 "nbformat_minor": 5
}
