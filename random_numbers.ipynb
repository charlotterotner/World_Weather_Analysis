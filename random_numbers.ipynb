{
 "cells": [
  {
   "cell_type": "code",
   "execution_count": 1,
   "id": "2ecde9af",
   "metadata": {},
   "outputs": [],
   "source": [
    "# Import the random module.\n",
    "import random"
   ]
  },
  {
   "cell_type": "code",
   "execution_count": 2,
   "id": "4e84924d",
   "metadata": {},
   "outputs": [
    {
     "data": {
      "text/plain": [
       "29"
      ]
     },
     "execution_count": 2,
     "metadata": {},
     "output_type": "execute_result"
    }
   ],
   "source": [
    "random.randint(-90, 90)"
   ]
  },
  {
   "cell_type": "code",
   "execution_count": 3,
   "id": "a5a33dd1",
   "metadata": {},
   "outputs": [
    {
     "data": {
      "text/plain": [
       "0.14024002323801055"
      ]
     },
     "execution_count": 3,
     "metadata": {},
     "output_type": "execute_result"
    }
   ],
   "source": [
    "random.random()"
   ]
  },
  {
   "cell_type": "code",
   "execution_count": 4,
   "id": "326a7bf0",
   "metadata": {},
   "outputs": [
    {
     "data": {
      "text/plain": [
       "-0.13067417171650708"
      ]
     },
     "execution_count": 4,
     "metadata": {},
     "output_type": "execute_result"
    }
   ],
   "source": [
    "random_number = random.randint(-90, 89) + random.random()\n",
    "random_number"
   ]
  },
  {
   "cell_type": "code",
   "execution_count": 5,
   "id": "4a8a9f70",
   "metadata": {},
   "outputs": [
    {
     "data": {
      "text/plain": [
       "[-3.470481701496174,\n",
       " -54.13588061037676,\n",
       " -72.03860823572383,\n",
       " -60.96189939545984,\n",
       " 7.7231667724508855,\n",
       " -9.846065939517006,\n",
       " -7.801228515472551,\n",
       " -77.96170384796206,\n",
       " 35.945268353855056,\n",
       " 56.00996812777586]"
      ]
     },
     "execution_count": 5,
     "metadata": {},
     "output_type": "execute_result"
    }
   ],
   "source": [
    "x = 1\n",
    "latitudes = []\n",
    "while x < 11:\n",
    "    random_lat = random.randint(-90, 89) + random.random()\n",
    "    latitudes.append(random_lat)\n",
    "    x += 1\n",
    "latitudes"
   ]
  },
  {
   "cell_type": "code",
   "execution_count": 6,
   "id": "41afdf7f",
   "metadata": {},
   "outputs": [
    {
     "data": {
      "text/plain": [
       "[115.14541888795387,\n",
       " -52.466608304878456,\n",
       " -46.974566937263,\n",
       " 32.30844851578621,\n",
       " -4.249765155746694,\n",
       " -35.96368738979913,\n",
       " 160.0934268056235,\n",
       " 28.734581533671,\n",
       " -100.92172529153437,\n",
       " -60.477232585499934]"
      ]
     },
     "execution_count": 6,
     "metadata": {},
     "output_type": "execute_result"
    }
   ],
   "source": [
    "x = 1\n",
    "latitudes = []\n",
    "while x < 11:\n",
    "    random_lat = random.randint(-180, 180) + random.random()\n",
    "    latitudes.append(random_lat)\n",
    "    x += 1\n",
    "latitudes"
   ]
  },
  {
   "cell_type": "code",
   "execution_count": 7,
   "id": "df4fc8d2",
   "metadata": {},
   "outputs": [
    {
     "data": {
      "text/plain": [
       "-46"
      ]
     },
     "execution_count": 7,
     "metadata": {},
     "output_type": "execute_result"
    }
   ],
   "source": [
    "random.randrange(-90,90, step = 1)"
   ]
  },
  {
   "cell_type": "code",
   "execution_count": 8,
   "id": "173fbb73",
   "metadata": {},
   "outputs": [
    {
     "data": {
      "text/plain": [
       "27"
      ]
     },
     "execution_count": 8,
     "metadata": {},
     "output_type": "execute_result"
    }
   ],
   "source": [
    "random.randrange(-90,90, step = 3)"
   ]
  },
  {
   "cell_type": "code",
   "execution_count": 9,
   "id": "5bb6eb0f",
   "metadata": {},
   "outputs": [
    {
     "data": {
      "text/plain": [
       "41.90107410524044"
      ]
     },
     "execution_count": 9,
     "metadata": {},
     "output_type": "execute_result"
    }
   ],
   "source": [
    "random.uniform(-90, 90)"
   ]
  },
  {
   "cell_type": "code",
   "execution_count": 10,
   "id": "068ad53f",
   "metadata": {},
   "outputs": [],
   "source": [
    "# Import the NumPy module.\n",
    "import numpy as np"
   ]
  },
  {
   "cell_type": "code",
   "execution_count": 11,
   "id": "f3d4208a",
   "metadata": {},
   "outputs": [
    {
     "data": {
      "text/plain": [
       "-10.992511049577459"
      ]
     },
     "execution_count": 11,
     "metadata": {},
     "output_type": "execute_result"
    }
   ],
   "source": [
    "np.random.uniform(-90.000, 90.000)"
   ]
  },
  {
   "cell_type": "code",
   "execution_count": 12,
   "id": "b3fa162b",
   "metadata": {},
   "outputs": [
    {
     "data": {
      "text/plain": [
       "-59.65454025771675"
      ]
     },
     "execution_count": 12,
     "metadata": {},
     "output_type": "execute_result"
    }
   ],
   "source": [
    "np.random.uniform(low=-90, high=90)"
   ]
  },
  {
   "cell_type": "code",
   "execution_count": 15,
   "id": "87c45235",
   "metadata": {},
   "outputs": [
    {
     "data": {
      "text/plain": [
       "array([-16.10269786,  -8.22799692,  21.75358472,  25.63897871,\n",
       "       -12.22430685,  21.86253937,  41.39075301,  79.39562498,\n",
       "        69.0160917 , -28.46352849, -38.00188089,  48.0442861 ,\n",
       "        86.47532565, -73.9587696 ,  26.75080223,  -2.44665223,\n",
       "       -65.42848936, -84.12572314, -53.73657223,  81.30636389,\n",
       "       -15.22954337,  61.9664048 , -50.33167996,  18.84142694,\n",
       "        74.76648338, -39.90965078,   6.9115708 , -14.93972639,\n",
       "       -15.24484555,  50.08004762, -41.18627074,  23.35247702,\n",
       "       -66.40142371,  78.37348559,  86.28957554,  15.03535717,\n",
       "       -53.20742839, -56.49895201,  22.01696358,  38.84768898,\n",
       "        71.85671725, -73.28370344, -69.86829605,   2.49245499,\n",
       "       -44.44685231, -45.25493582, -54.56975152,  44.1639812 ,\n",
       "       -23.17731088, -64.80566787])"
      ]
     },
     "execution_count": 15,
     "metadata": {},
     "output_type": "execute_result"
    }
   ],
   "source": [
    "np.random.uniform(-90.000, 90.000, size=50)"
   ]
  },
  {
   "cell_type": "code",
   "execution_count": 16,
   "id": "72e9747b",
   "metadata": {},
   "outputs": [],
   "source": [
    "# Import timeit.\n",
    "import timeit"
   ]
  },
  {
   "cell_type": "code",
   "execution_count": 21,
   "id": "941e1732",
   "metadata": {},
   "outputs": [
    {
     "name": "stdout",
     "output_type": "stream",
     "text": [
      "13 µs ± 18.2 ns per loop (mean ± std. dev. of 7 runs, 100000 loops each)\n"
     ]
    }
   ],
   "source": [
    "%timeit np.random.uniform(-90.000, 90.000, size=1500)"
   ]
  },
  {
   "cell_type": "code",
   "execution_count": 28,
   "id": "43c1fdcc",
   "metadata": {},
   "outputs": [
    {
     "name": "stdout",
     "output_type": "stream",
     "text": [
      "1.47 ms ± 18.5 µs per loop (mean ± std. dev. of 7 runs, 1000 loops each)\n"
     ]
    }
   ],
   "source": [
    "def latitudes(size):\n",
    "    latitudes = []\n",
    "    x = 0 \n",
    "    while x < (size):\n",
    "        random_lat = random.randint(-90,90) +random.random()\n",
    "        latitudes.append(random_lat)\n",
    "        x += 1\n",
    "    return latitudes\n",
    "# Call the function with 1500\n",
    "%timeit latitudes (1500)"
   ]
  },
  {
   "cell_type": "code",
   "execution_count": null,
   "id": "4bbfb038",
   "metadata": {},
   "outputs": [],
   "source": []
  },
  {
   "cell_type": "code",
   "execution_count": null,
   "id": "ff73494f",
   "metadata": {},
   "outputs": [],
   "source": []
  }
 ],
 "metadata": {
  "kernelspec": {
   "display_name": "PythonData",
   "language": "python",
   "name": "pythondata"
  },
  "language_info": {
   "codemirror_mode": {
    "name": "ipython",
    "version": 3
   },
   "file_extension": ".py",
   "mimetype": "text/x-python",
   "name": "python",
   "nbconvert_exporter": "python",
   "pygments_lexer": "ipython3",
   "version": "3.7.11"
  }
 },
 "nbformat": 4,
 "nbformat_minor": 5
}
